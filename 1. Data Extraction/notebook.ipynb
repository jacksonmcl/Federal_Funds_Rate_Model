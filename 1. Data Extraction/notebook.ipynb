{
  "nbformat": 4,
  "nbformat_minor": 0,
  "metadata": {
    "colab": {
      "provenance": [],
      "authorship_tag": "ABX9TyPEsy9DqLF19g3L+WmcQecs",
      "include_colab_link": true
    },
    "kernelspec": {
      "name": "python3",
      "display_name": "Python 3"
    },
    "language_info": {
      "name": "python"
    }
  },
  "cells": [
    {
      "cell_type": "markdown",
      "metadata": {
        "id": "view-in-github",
        "colab_type": "text"
      },
      "source": [
        "<a href=\"https://colab.research.google.com/github/jacksonmcl/Federal_Funds_Rate_Model/blob/main/1.%20Data%20Extraction/notebook.ipynb\" target=\"_parent\"><img src=\"https://colab.research.google.com/assets/colab-badge.svg\" alt=\"Open In Colab\"/></a>"
      ]
    },
    {
      "cell_type": "code",
      "execution_count": null,
      "metadata": {
        "id": "C1eVbG8sXx57"
      },
      "outputs": [],
      "source": [
        "import numpy as np\n",
        "import pandas as pd\n",
        "import matplotlib.pyplot as plt\n",
        "import seaborn as sns\n",
        "dfs = {}"
      ]
    },
    {
      "cell_type": "code",
      "source": [
        "dfs['Federal_Funds_Rate'] = pd.read_csv('clean_Federal_Funds_Rate.csv')\n",
        "\n",
        "\n",
        "dfs['Reserve_Rate'] = pd.`read_csv('clean_Reserve_Rate.csv')\n",
        "dfs['Discount_Rate'] = pd.read_csv('clean_Discount_Rate.csv')\n",
        "dfs['Prime_Rate'] = pd.read_csv('clean_Prime_Loan_Rate.csv')\n",
        "\n",
        "dfs['Consumer_Price_Index'] = pd.read_csv('clean_Consumer_Price_Index.csv')\n",
        "dfs['Producer_Price_Index'] = pd.read_csv('clean_Producer_Price_Index.csv')\n",
        "dfs['Personal_Consumption_Expenditure'] = pd.read_csv('clean_Personal_Consumption_Expenditure.csv')\n",
        "dfs['GDP_Recession_Index'] = pd.read_csv('clean_GDP_Recession_Index.csv')\n",
        "\n",
        "dfs['Unemployment_Rate'] = pd.read_csv('clean_Unemployment_Rate.csv')\n",
        "dfs['Mortgage_Rate'] = pd.read_csv('clean_Mortgage_Rate.csv')\n",
        "dfs['Auto_Loan_Rate'] = pd.read_csv('clean_Auto_Loan_Rate.csv')"
      ],
      "metadata": {
        "id": "97n-AMMtX78-"
      },
      "execution_count": null,
      "outputs": []
    }
  ]
}