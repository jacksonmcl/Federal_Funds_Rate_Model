{
  "nbformat": 4,
  "nbformat_minor": 0,
  "metadata": {
    "colab": {
      "provenance": [],
      "collapsed_sections": [
        "uwtn1soIjPbL"
      ],
      "authorship_tag": "ABX9TyOEL88TFykk4bYYaGyvhFnP",
      "include_colab_link": true
    },
    "kernelspec": {
      "name": "python3",
      "display_name": "Python 3"
    },
    "language_info": {
      "name": "python"
    }
  },
  "cells": [
    {
      "cell_type": "markdown",
      "metadata": {
        "id": "view-in-github",
        "colab_type": "text"
      },
      "source": [
        "<a href=\"https://colab.research.google.com/github/jacksonmcl/Federal_Funds_Rate_Model/blob/main/2.%20Data%20Visualization/data_visualization.ipynb\" target=\"_parent\"><img src=\"https://colab.research.google.com/assets/colab-badge.svg\" alt=\"Open In Colab\"/></a>"
      ]
    },
    {
      "cell_type": "code",
      "execution_count": 14,
      "metadata": {
        "id": "C1eVbG8sXx57"
      },
      "outputs": [],
      "source": [
        "import numpy as np\n",
        "import pandas as pd\n",
        "import matplotlib.pyplot as plt\n",
        "import seaborn as sns\n",
        "\n",
        "import matplotlib.transforms as mtransforms\n",
        "from datetime import datetime\n",
        "from functools import reduce\n",
        "\n",
        "dfs = {}"
      ]
    },
    {
      "cell_type": "markdown",
      "source": [
        "### Github Setup"
      ],
      "metadata": {
        "id": "zekHceaZQexo"
      }
    },
    {
      "cell_type": "code",
      "source": [
        "! apt-get install git"
      ],
      "metadata": {
        "outputId": "c5752eb7-1d3b-4f41-c9b5-3cd2a215d553",
        "colab": {
          "base_uri": "https://localhost:8080/"
        },
        "id": "We7_wmYgQexp"
      },
      "execution_count": 15,
      "outputs": [
        {
          "output_type": "stream",
          "name": "stdout",
          "text": [
            "Reading package lists... Done\n",
            "Building dependency tree... Done\n",
            "Reading state information... Done\n",
            "git is already the newest version (1:2.34.1-1ubuntu1.12).\n",
            "0 upgraded, 0 newly installed, 0 to remove and 49 not upgraded.\n"
          ]
        }
      ]
    },
    {
      "cell_type": "code",
      "source": [
        "!git -C \"Federal_Funds_Rate_Model\" pull || git clone https://github.com/jacksonmcl/Federal_Funds_Rate_Model.git \"Federal_Funds_Rate_Model\""
      ],
      "metadata": {
        "outputId": "f4f62379-97c2-4417-a6ac-aa30ca013671",
        "colab": {
          "base_uri": "https://localhost:8080/"
        },
        "id": "96dcLjU4Qexq"
      },
      "execution_count": 16,
      "outputs": [
        {
          "output_type": "stream",
          "name": "stdout",
          "text": [
            "Already up to date.\n"
          ]
        }
      ]
    },
    {
      "cell_type": "markdown",
      "source": [
        "### Read Data"
      ],
      "metadata": {
        "id": "feLv2Thg1lAU"
      }
    },
    {
      "cell_type": "code",
      "source": [
        "dfs['Federal_Funds_Rate'] = pd.read_csv('Federal_Funds_Rate_Model/2. Data Visualization/clean_Federal_Funds_Rate.csv')\n",
        "dfs['Lagged_FFER'] = pd.read_csv('Federal_Funds_Rate_Model/2. Data Visualization/clean_Lagged_FFR.csv')\n",
        "\n",
        "dfs['Discount_Rate'] = pd.read_csv('Federal_Funds_Rate_Model/2. Data Visualization/clean_Discount_Rate.csv')\n",
        "dfs['Prime_Rate'] = pd.read_csv('Federal_Funds_Rate_Model/2. Data Visualization/clean_Prime_Loan_Rate.csv')\n",
        "\n",
        "dfs['Consumer_Price_Index'] = pd.read_csv('Federal_Funds_Rate_Model/2. Data Visualization/clean_Consumer_Price_Index.csv')\n",
        "dfs['Producer_Price_Index'] = pd.read_csv('Federal_Funds_Rate_Model/2. Data Visualization/clean_Producer_Price_Index.csv')\n",
        "dfs['Personal_Consumption_Expenditure'] = pd.read_csv('Federal_Funds_Rate_Model/2. Data Visualization/clean_Personal_Consumption_Expenditures.csv')\n",
        "dfs['GDP_Recession_Index'] = pd.read_csv('Federal_Funds_Rate_Model/2. Data Visualization/clean_GDP_Recession_Index.csv')\n",
        "\n",
        "dfs['Unemployment_Rate'] = pd.read_csv('Federal_Funds_Rate_Model/2. Data Visualization/clean_Unemployment_Rate.csv')\n",
        "dfs['Mortgage_Rate'] = pd.read_csv('Federal_Funds_Rate_Model/2. Data Visualization/clean_Mortgage_Rate.csv')\n",
        "dfs['Auto_Loan_Rate'] = pd.read_csv('Federal_Funds_Rate_Model/2. Data Visualization/clean_Auto_Loan_Rate.csv')\n",
        "\n",
        "target_df = dfs.pop('Federal_Funds_Rate')"
      ],
      "metadata": {
        "id": "97n-AMMtX78-"
      },
      "execution_count": 20,
      "outputs": []
    },
    {
      "cell_type": "markdown",
      "metadata": {
        "id": "uwtn1soIjPbL"
      },
      "source": [
        "# Helper Functions"
      ]
    },
    {
      "cell_type": "code",
      "execution_count": null,
      "metadata": {
        "id": "vrVOX2rJjV7c"
      },
      "outputs": [],
      "source": [
        "# This function cleans a dataframe to change datetime to %Y-%m format\n",
        "def df_dates_monthly(df, Date = 'Date'):\n",
        "    clean_df = df.copy()\n",
        "    clean_df[Date] = pd.to_datetime(clean_df[Date])\n",
        "    clean_df[Date] = clean_df[Date].dt.strftime('%Y-%m')\n",
        "    return clean_df"
      ]
    },
    {
      "cell_type": "code",
      "execution_count": null,
      "metadata": {
        "id": "lNHaLsk_jStd"
      },
      "outputs": [],
      "source": [
        "def df_change_percent(df, Value = 'Value'):\n",
        "    clean_df = df.copy()\n",
        "    clean_df['ChangePercentMonth'] = round(clean_df[Value].pct_change(),6)\n",
        "    clean_df['ChangePercentYear'] = round(clean_df[Value].pct_change(12),6)\n",
        "    return clean_df"
      ]
    },
    {
      "cell_type": "code",
      "execution_count": null,
      "metadata": {
        "id": "MukN0PUl8DBC"
      },
      "outputs": [],
      "source": [
        "def plot_comparison(base_df, comparison_df, base_label, comparison_label, Value='Value'):\n",
        "    base_df = base_df.copy()\n",
        "    comparison_df = comparison_df.copy()\n",
        "\n",
        "    base_df.dropna(inplace=True)\n",
        "    comparison_df.dropna(inplace=True)\n",
        "\n",
        "    # Convert to Datetime\n",
        "    base_df['Date'] = pd.to_datetime(base_df['Date'])\n",
        "    comparison_df['Date'] = pd.to_datetime(comparison_df['Date'])\n",
        "\n",
        "    # Plot comparison metric\n",
        "    plt.figure(figsize=(12, 6))\n",
        "    plt.stackplot(base_df['Date'], base_df[Value], color='lightgray')\n",
        "    sns.lineplot(x='Date', y=Value, data=comparison_df, label=comparison_label, color='steelblue')\n",
        "\n",
        "    # Customize plot\n",
        "    plt.title(f'{base_label} and {comparison_label}')\n",
        "    plt.xlabel('Date')\n",
        "    plt.ylabel(f'{comparison_label}')\n",
        "    plt.grid(True)\n",
        "    plt.legend()\n",
        "    plt.show()\n"
      ]
    },
    {
      "cell_type": "markdown",
      "source": [
        "# Correlations"
      ],
      "metadata": {
        "id": "ufewvGZ2hm-y"
      }
    },
    {
      "cell_type": "code",
      "source": [
        "for label, df in dfs.items():\n",
        "  df.drop(columns=['ChangePercentMonth', 'ChangePercentYear'], axis=1, inplace=True)\n",
        "  df.dropna(inplace=True)\n",
        "  df.drop_duplicates(inplace=True)\n",
        "\n",
        "merged_dfs = {k:pd.merge(v, target_df, how='left', on='Date') for (k,v) in dfs.items()}"
      ],
      "metadata": {
        "id": "T6BX7ZzfhyY0"
      },
      "execution_count": null,
      "outputs": []
    },
    {
      "cell_type": "code",
      "source": [
        "# Calculate correlations between different variables to Target\n",
        "corr_list = {\n",
        "            k:v[['Value_x', 'Value_y']].corr().iat[0,1] # [0,1] is the location on the correlation matrix that has the correlation of Value_x to Value_y\n",
        "            for (k,v)\n",
        "            in merged_dfs.items()\n",
        "        }\n",
        "\n",
        "# Print correlations of each dataset to Target\n",
        "print(f'Correlations with The Federal Funds Effective Rate:\\n')\n",
        "for k,v in corr_list.items():\n",
        "    print(f'\\t{k}: {round(v,2)}')"
      ],
      "metadata": {
        "id": "-lPyQuh_ii53"
      },
      "execution_count": null,
      "outputs": []
    },
    {
      "cell_type": "code",
      "source": [
        "# Merge the values and plot a pairplot\n",
        "dataset_list_values = {k:v[['Date', 'Value']] for (k,v) in dfs.items()}\n",
        "dataset_list_values['Federal_Funds_Rate'] = target_df[['Date', 'Value']]\n",
        "dataset_list_values.keys()"
      ],
      "metadata": {
        "id": "3mG1S8cjZ6hT"
      },
      "execution_count": null,
      "outputs": []
    },
    {
      "cell_type": "code",
      "source": [
        "merged_values = reduce(lambda left,right: pd.merge(left,right,on='Date', how='outer'), dataset_list_values.values())\n",
        "merged_values.columns = ['Date'] + list(dataset_list_values.keys())\n",
        "# sns.pairplot(data = merged_values)"
      ],
      "metadata": {
        "id": "KCfBiux5c3bS"
      },
      "execution_count": null,
      "outputs": []
    },
    {
      "cell_type": "code",
      "source": [
        "# Plot a correlation matrix heatmap\n",
        "f = plt.figure(figsize=(10, 10))\n",
        "sns.heatmap(merged_values.corr(), vmin = -1, vmax = 1, annot = True, fmt = \".2f\")"
      ],
      "metadata": {
        "id": "94NijQDfjg19"
      },
      "execution_count": null,
      "outputs": []
    },
    {
      "cell_type": "markdown",
      "source": [
        "# Graph Visualizations"
      ],
      "metadata": {
        "id": "aySBz0rpdFmz"
      }
    },
    {
      "cell_type": "code",
      "source": [
        "# Scale Data for Graphing\n",
        "clean_dfs = {}\n",
        "for label, df in dfs.items():\n",
        "  clean_df = df.copy()\n",
        "  clean_df.columns = ['Date', 'Value']\n",
        "  clean_dfs[label] = clean_df"
      ],
      "metadata": {
        "id": "zhjScH0Lqg8v"
      },
      "execution_count": null,
      "outputs": []
    },
    {
      "cell_type": "markdown",
      "source": [
        "## Target Comparison (Value)"
      ],
      "metadata": {
        "id": "u5LMvUo4dMsD"
      }
    },
    {
      "cell_type": "code",
      "source": [
        "for label, df in clean_dfs.items():\n",
        "  plot_comparison(target_df, df, 'FFER', label)"
      ],
      "metadata": {
        "id": "tPXOGqCFdKPP"
      },
      "execution_count": null,
      "outputs": []
    },
    {
      "cell_type": "markdown",
      "source": [
        "## Target Comparison (Monthly)"
      ],
      "metadata": {
        "id": "EFqoFPkfd55V"
      }
    },
    {
      "cell_type": "code",
      "source": [
        "for label, df in clean_dfs.items():\n",
        "  plot_comparison(target_df, df, 'FFER', label, Value='ChangePercentMonth')"
      ],
      "metadata": {
        "id": "tldgepRCd-F7"
      },
      "execution_count": null,
      "outputs": []
    },
    {
      "cell_type": "markdown",
      "source": [
        "## Target Comparison (Annually)"
      ],
      "metadata": {
        "id": "AO0OX5TVd-jE"
      }
    },
    {
      "cell_type": "code",
      "source": [
        "for label, df in clean_dfs.items():\n",
        "  plot_comparison(target_df, df, 'FFER', label, Value='ChangePercentYear')"
      ],
      "metadata": {
        "id": "nd3IHRn0eCST"
      },
      "execution_count": null,
      "outputs": []
    }
  ]
}