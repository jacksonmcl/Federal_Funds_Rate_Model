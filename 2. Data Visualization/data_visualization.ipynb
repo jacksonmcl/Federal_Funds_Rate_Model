{
  "nbformat": 4,
  "nbformat_minor": 0,
  "metadata": {
    "colab": {
      "provenance": [],
      "authorship_tag": "ABX9TyPEsy9DqLF19g3L+WmcQecs"
    },
    "kernelspec": {
      "name": "python3",
      "display_name": "Python 3"
    },
    "language_info": {
      "name": "python"
    }
  },
  "cells": [
    {
      "cell_type": "code",
      "execution_count": null,
      "metadata": {
        "id": "C1eVbG8sXx57"
      },
      "outputs": [],
      "source": [
        "import numpy as np\n",
        "import pandas as pd\n",
        "import matplotlib.pyplot as plt\n",
        "import seaborn as sns\n",
        "dfs = {}"
      ]
    },
    {
      "cell_type": "code",
      "source": [
        "dfs['Federal_Funds_Rate'] = pd.read_csv('clean_Federal_Funds_Rate.csv')\n",
        "\n",
        "\n",
        "dfs['Reserve_Rate'] = pd.`read_csv('clean_Reserve_Rate.csv')\n",
        "dfs['Discount_Rate'] = pd.read_csv('clean_Discount_Rate.csv')\n",
        "dfs['Prime_Rate'] = pd.read_csv('clean_Prime_Loan_Rate.csv')\n",
        "\n",
        "dfs['Consumer_Price_Index'] = pd.read_csv('clean_Consumer_Price_Index.csv')\n",
        "dfs['Producer_Price_Index'] = pd.read_csv('clean_Producer_Price_Index.csv')\n",
        "dfs['Personal_Consumption_Expenditure'] = pd.read_csv('clean_Personal_Consumption_Expenditure.csv')\n",
        "dfs['GDP_Recession_Index'] = pd.read_csv('clean_GDP_Recession_Index.csv')\n",
        "\n",
        "dfs['Unemployment_Rate'] = pd.read_csv('clean_Unemployment_Rate.csv')\n",
        "dfs['Mortgage_Rate'] = pd.read_csv('clean_Mortgage_Rate.csv')\n",
        "dfs['Auto_Loan_Rate'] = pd.read_csv('clean_Auto_Loan_Rate.csv')"
      ],
      "metadata": {
        "id": "97n-AMMtX78-"
      },
      "execution_count": null,
      "outputs": []
    }
  ]
}