{
  "nbformat": 4,
  "nbformat_minor": 0,
  "metadata": {
    "colab": {
      "provenance": [],
      "collapsed_sections": [
        "uwtn1soIjPbL"
      ],
      "authorship_tag": "ABX9TyNLdn4FqW8Vcu1tXI9zi0Wx",
      "include_colab_link": true
    },
    "kernelspec": {
      "name": "python3",
      "display_name": "Python 3"
    },
    "language_info": {
      "name": "python"
    }
  },
  "cells": [
    {
      "cell_type": "markdown",
      "metadata": {
        "id": "view-in-github",
        "colab_type": "text"
      },
      "source": [
        "<a href=\"https://colab.research.google.com/github/jacksonmcl/Federal_Funds_Rate_Model/blob/main/2.%20Data%20Visualization/data_visualization.ipynb\" target=\"_parent\"><img src=\"https://colab.research.google.com/assets/colab-badge.svg\" alt=\"Open In Colab\"/></a>"
      ]
    },
    {
      "cell_type": "code",
      "execution_count": 44,
      "metadata": {
        "id": "C1eVbG8sXx57"
      },
      "outputs": [],
      "source": [
        "import numpy as np\n",
        "import pandas as pd\n",
        "import matplotlib.pyplot as plt\n",
        "import seaborn as sns\n",
        "\n",
        "import matplotlib.transforms as mtransforms\n",
        "from datetime import datetime\n",
        "from functools import reduce\n",
        "\n",
        "dfs = {}"
      ]
    },
    {
      "cell_type": "markdown",
      "source": [
        "### Github Setup"
      ],
      "metadata": {
        "id": "bWbJRw5r1afm"
      }
    },
    {
      "cell_type": "code",
      "source": [
        "! apt-get install git"
      ],
      "metadata": {
        "id": "MKd5mWncz-ST",
        "outputId": "10a9e71d-62c1-4f77-f0dd-093d78678436",
        "colab": {
          "base_uri": "https://localhost:8080/"
        }
      },
      "execution_count": 45,
      "outputs": [
        {
          "output_type": "stream",
          "name": "stdout",
          "text": [
            "Reading package lists... Done\n",
            "Building dependency tree... Done\n",
            "Reading state information... Done\n",
            "git is already the newest version (1:2.34.1-1ubuntu1.12).\n",
            "0 upgraded, 0 newly installed, 0 to remove and 49 not upgraded.\n"
          ]
        }
      ]
    },
    {
      "cell_type": "code",
      "source": [
        "!git clone https://github.com/jacksonmcl/Federal_Funds_Rate_Model.git"
      ],
      "metadata": {
        "id": "GDtEWX9v0AU8",
        "outputId": "7d20efb3-9cf0-486a-ebaf-5e8b71df3a8a",
        "colab": {
          "base_uri": "https://localhost:8080/"
        }
      },
      "execution_count": 46,
      "outputs": [
        {
          "output_type": "stream",
          "name": "stdout",
          "text": [
            "Cloning into 'Federal_Funds_Rate_Model'...\n",
            "remote: Enumerating objects: 133, done.\u001b[K\n",
            "remote: Counting objects: 100% (133/133), done.\u001b[K\n",
            "remote: Compressing objects: 100% (111/111), done.\u001b[K\n",
            "remote: Total 133 (delta 58), reused 70 (delta 21), pack-reused 0 (from 0)\u001b[K\n",
            "Receiving objects: 100% (133/133), 1.00 MiB | 10.56 MiB/s, done.\n",
            "Resolving deltas: 100% (58/58), done.\n"
          ]
        }
      ]
    },
    {
      "cell_type": "code",
      "source": [
        "cd Federal_Funds_Rate_Model"
      ],
      "metadata": {
        "colab": {
          "base_uri": "https://localhost:8080/"
        },
        "id": "-SZTpd5s1Qdw",
        "outputId": "32268203-8b91-40a8-a0ab-fb8ff23cfe68"
      },
      "execution_count": 47,
      "outputs": [
        {
          "output_type": "stream",
          "name": "stdout",
          "text": [
            "/content/Federal_Funds_Rate_Model/Federal_Funds_Rate_Model\n"
          ]
        }
      ]
    },
    {
      "cell_type": "code",
      "source": [
        "!git pull https://github.com/jacksonmcl/Federal_Funds_Rate_Model.git"
      ],
      "metadata": {
        "colab": {
          "base_uri": "https://localhost:8080/"
        },
        "id": "nr7vMexi04XD",
        "outputId": "bcbfb61a-a0ca-40d7-f21a-1c937ef6882a"
      },
      "execution_count": 48,
      "outputs": [
        {
          "output_type": "stream",
          "name": "stdout",
          "text": [
            "From https://github.com/jacksonmcl/Federal_Funds_Rate_Model\n",
            " * branch            HEAD       -> FETCH_HEAD\n",
            "Already up to date.\n"
          ]
        }
      ]
    },
    {
      "cell_type": "markdown",
      "source": [
        "### Read Data"
      ],
      "metadata": {
        "id": "feLv2Thg1lAU"
      }
    },
    {
      "cell_type": "code",
      "source": [
        "dfs['Federal_Funds_Rate'] = pd.read_csv('2. Data Visualization/clean_Federal_Funds_Rate.csv')\n",
        "dfs['Lagged_FFER'] = pd.read_csv('2. Data Visualization/clean_Lagged_FFR.csv')\n",
        "\n",
        "dfs['Discount_Rate'] = pd.read_csv('2. Data Visualization/clean_Discount_Rate.csv')\n",
        "dfs['Prime_Rate'] = pd.read_csv('2. Data Visualization/clean_Prime_Loan_Rate.csv')\n",
        "\n",
        "dfs['Consumer_Price_Index'] = pd.read_csv('2. Data Visualization/clean_Consumer_Price_Index.csv')\n",
        "dfs['Producer_Price_Index'] = pd.read_csv('2. Data Visualization/clean_Producer_Price_Index.csv')\n",
        "dfs['Personal_Consumption_Expenditure'] = pd.read_csv('2. Data Visualization/clean_Personal_Consumption_Expenditures.csv')\n",
        "dfs['GDP_Recession_Index'] = pd.read_csv('2. Data Visualization/clean_GDP_Recession_Index.csv')\n",
        "\n",
        "dfs['Unemployment_Rate'] = pd.read_csv('2. Data Visualization/clean_Unemployment_Rate.csv')\n",
        "dfs['Mortgage_Rate'] = pd.read_csv('2. Data Visualization/clean_Mortgage_Rate.csv')\n",
        "dfs['Auto_Loan_Rate'] = pd.read_csv('2. Data Visualization/clean_Auto_Loan_Rate.csv')\n",
        "\n",
        "target_df = dfs.pop('Federal_Funds_Rate')"
      ],
      "metadata": {
        "id": "97n-AMMtX78-"
      },
      "execution_count": 49,
      "outputs": []
    },
    {
      "cell_type": "markdown",
      "metadata": {
        "id": "uwtn1soIjPbL"
      },
      "source": [
        "# Helper Functions"
      ]
    },
    {
      "cell_type": "code",
      "execution_count": 50,
      "metadata": {
        "id": "vrVOX2rJjV7c"
      },
      "outputs": [],
      "source": [
        "# This function cleans a dataframe to change datetime to %Y-%m format\n",
        "def df_dates_monthly(df, Date = 'Date'):\n",
        "    clean_df = df.copy()\n",
        "    clean_df[Date] = pd.to_datetime(clean_df[Date])\n",
        "    clean_df[Date] = clean_df[Date].dt.strftime('%Y-%m')\n",
        "    return clean_df"
      ]
    },
    {
      "cell_type": "code",
      "execution_count": 51,
      "metadata": {
        "id": "lNHaLsk_jStd"
      },
      "outputs": [],
      "source": [
        "def df_change_percent(df, Value = 'Value'):\n",
        "    clean_df = df.copy()\n",
        "    clean_df['ChangePercentMonth'] = round(clean_df[Value].pct_change(),6)\n",
        "    clean_df['ChangePercentYear'] = round(clean_df[Value].pct_change(12),6)\n",
        "    return clean_df"
      ]
    },
    {
      "cell_type": "code",
      "execution_count": 52,
      "metadata": {
        "id": "MukN0PUl8DBC"
      },
      "outputs": [],
      "source": [
        "def plot_comparison(base_df, comparison_df, base_label, comparison_label, Value='Value'):\n",
        "    base_df = base_df.copy()\n",
        "    comparison_df = comparison_df.copy()\n",
        "\n",
        "    base_df.dropna(inplace=True)\n",
        "    comparison_df.dropna(inplace=True)\n",
        "\n",
        "    # Convert to Datetime\n",
        "    base_df['Date'] = pd.to_datetime(base_df['Date'])\n",
        "    comparison_df['Date'] = pd.to_datetime(comparison_df['Date'])\n",
        "\n",
        "    # Plot comparison metric\n",
        "    plt.figure(figsize=(12, 6))\n",
        "    plt.stackplot(base_df['Date'], base_df[Value], color='lightgray')\n",
        "    sns.lineplot(x='Date', y=Value, data=comparison_df, label=comparison_label, color='steelblue')\n",
        "\n",
        "    # Customize plot\n",
        "    plt.title(f'{base_label} and {comparison_label}')\n",
        "    plt.xlabel('Date')\n",
        "    plt.ylabel(f'{comparison_label}')\n",
        "    plt.grid(True)\n",
        "    plt.legend()\n",
        "    plt.show()\n"
      ]
    },
    {
      "cell_type": "markdown",
      "source": [
        "# Correlations"
      ],
      "metadata": {
        "id": "ufewvGZ2hm-y"
      }
    },
    {
      "cell_type": "code",
      "source": [
        "for label, df in dfs.items():\n",
        "  df.drop(columns=['ChangePercentMonth', 'ChangePercentYear'], axis=1, inplace=True)\n",
        "  df.dropna(inplace=True)\n",
        "  df.drop_duplicates(inplace=True)\n",
        "\n",
        "merged_dfs = {k:pd.merge(v, target_df, how='left', on='Date') for (k,v) in dfs.items()}"
      ],
      "metadata": {
        "id": "T6BX7ZzfhyY0"
      },
      "execution_count": 53,
      "outputs": []
    },
    {
      "cell_type": "code",
      "source": [
        "# Calculate correlations between different variables to Target\n",
        "corr_list = {\n",
        "            k:v[['Value_x', 'Value_y']].corr().iat[0,1] # [0,1] is the location on the correlation matrix that has the correlation of Value_x to Value_y\n",
        "            for (k,v)\n",
        "            in merged_dfs.items()\n",
        "        }\n",
        "\n",
        "# Print correlations of each dataset to Target\n",
        "print(f'Correlations with The Federal Funds Effective Rate:\\n')\n",
        "for k,v in corr_list.items():\n",
        "    print(f'\\t{k}: {round(v,2)}')"
      ],
      "metadata": {
        "id": "-lPyQuh_ii53",
        "colab": {
          "base_uri": "https://localhost:8080/"
        },
        "outputId": "1763bfbe-f0cb-4cf7-dc48-0ece4a7c2448"
      },
      "execution_count": 54,
      "outputs": [
        {
          "output_type": "stream",
          "name": "stdout",
          "text": [
            "Correlations with The Federal Funds Effective Rate:\n",
            "\n",
            "\tLagged_FFER: 0.99\n",
            "\tDiscount_Rate: 0.97\n",
            "\tPrime_Rate: 0.96\n",
            "\tConsumer_Price_Index: -0.4\n",
            "\tProducer_Price_Index: -0.35\n",
            "\tPersonal_Consumption_Expenditure: -0.53\n",
            "\tGDP_Recession_Index: 0.36\n",
            "\tUnemployment_Rate: 0.06\n",
            "\tMortgage_Rate: 0.92\n",
            "\tAuto_Loan_Rate: 0.92\n"
          ]
        }
      ]
    },
    {
      "cell_type": "code",
      "source": [
        "# Merge the values and plot a pairplot\n",
        "dataset_list_values = {k:v[['Date', 'Value']] for (k,v) in dfs.items()}\n",
        "dataset_list_values['Federal_Funds_Rate'] = target_df[['Date', 'Value']]\n",
        "dataset_list_values.keys()"
      ],
      "metadata": {
        "id": "3mG1S8cjZ6hT",
        "colab": {
          "base_uri": "https://localhost:8080/"
        },
        "outputId": "9dec09ae-54d5-4fad-84d8-bc1524b09f40"
      },
      "execution_count": 55,
      "outputs": [
        {
          "output_type": "execute_result",
          "data": {
            "text/plain": [
              "dict_keys(['Lagged_FFER', 'Discount_Rate', 'Prime_Rate', 'Consumer_Price_Index', 'Producer_Price_Index', 'Personal_Consumption_Expenditure', 'GDP_Recession_Index', 'Unemployment_Rate', 'Mortgage_Rate', 'Auto_Loan_Rate', 'Federal_Funds_Rate'])"
            ]
          },
          "metadata": {},
          "execution_count": 55
        }
      ]
    },
    {
      "cell_type": "code",
      "source": [
        "merged_values = reduce(lambda left,right: pd.merge(left,right,on='Date', how='outer'), dataset_list_values.values())\n",
        "merged_values.columns = ['Date'] + list(dataset_list_values.keys())\n",
        "# sns.pairplot(data = merged_values)"
      ],
      "metadata": {
        "id": "KCfBiux5c3bS",
        "colab": {
          "base_uri": "https://localhost:8080/",
          "height": 365
        },
        "outputId": "34929f6a-78af-4f4e-84de-f059fd9f7308"
      },
      "execution_count": 56,
      "outputs": [
        {
          "output_type": "error",
          "ename": "MergeError",
          "evalue": "Passing 'suffixes' which cause duplicate columns {'Value_x'} is not allowed.",
          "traceback": [
            "\u001b[0;31m---------------------------------------------------------------------------\u001b[0m",
            "\u001b[0;31mMergeError\u001b[0m                                Traceback (most recent call last)",
            "\u001b[0;32m<ipython-input-56-92291f20cb12>\u001b[0m in \u001b[0;36m<cell line: 0>\u001b[0;34m()\u001b[0m\n\u001b[0;32m----> 1\u001b[0;31m \u001b[0mmerged_values\u001b[0m \u001b[0;34m=\u001b[0m \u001b[0mreduce\u001b[0m\u001b[0;34m(\u001b[0m\u001b[0;32mlambda\u001b[0m \u001b[0mleft\u001b[0m\u001b[0;34m,\u001b[0m\u001b[0mright\u001b[0m\u001b[0;34m:\u001b[0m \u001b[0mpd\u001b[0m\u001b[0;34m.\u001b[0m\u001b[0mmerge\u001b[0m\u001b[0;34m(\u001b[0m\u001b[0mleft\u001b[0m\u001b[0;34m,\u001b[0m\u001b[0mright\u001b[0m\u001b[0;34m,\u001b[0m\u001b[0mon\u001b[0m\u001b[0;34m=\u001b[0m\u001b[0;34m'Date'\u001b[0m\u001b[0;34m,\u001b[0m \u001b[0mhow\u001b[0m\u001b[0;34m=\u001b[0m\u001b[0;34m'outer'\u001b[0m\u001b[0;34m)\u001b[0m\u001b[0;34m,\u001b[0m \u001b[0mdataset_list_values\u001b[0m\u001b[0;34m.\u001b[0m\u001b[0mvalues\u001b[0m\u001b[0;34m(\u001b[0m\u001b[0;34m)\u001b[0m\u001b[0;34m)\u001b[0m\u001b[0;34m\u001b[0m\u001b[0;34m\u001b[0m\u001b[0m\n\u001b[0m\u001b[1;32m      2\u001b[0m \u001b[0mmerged_values\u001b[0m\u001b[0;34m.\u001b[0m\u001b[0mcolumns\u001b[0m \u001b[0;34m=\u001b[0m \u001b[0;34m[\u001b[0m\u001b[0;34m'Date'\u001b[0m\u001b[0;34m]\u001b[0m \u001b[0;34m+\u001b[0m \u001b[0mlist\u001b[0m\u001b[0;34m(\u001b[0m\u001b[0mdataset_list_values\u001b[0m\u001b[0;34m.\u001b[0m\u001b[0mkeys\u001b[0m\u001b[0;34m(\u001b[0m\u001b[0;34m)\u001b[0m\u001b[0;34m)\u001b[0m\u001b[0;34m\u001b[0m\u001b[0;34m\u001b[0m\u001b[0m\n\u001b[1;32m      3\u001b[0m \u001b[0;31m# sns.pairplot(data = merged_values)\u001b[0m\u001b[0;34m\u001b[0m\u001b[0;34m\u001b[0m\u001b[0m\n",
            "\u001b[0;32m<ipython-input-56-92291f20cb12>\u001b[0m in \u001b[0;36m<lambda>\u001b[0;34m(left, right)\u001b[0m\n\u001b[0;32m----> 1\u001b[0;31m \u001b[0mmerged_values\u001b[0m \u001b[0;34m=\u001b[0m \u001b[0mreduce\u001b[0m\u001b[0;34m(\u001b[0m\u001b[0;32mlambda\u001b[0m \u001b[0mleft\u001b[0m\u001b[0;34m,\u001b[0m\u001b[0mright\u001b[0m\u001b[0;34m:\u001b[0m \u001b[0mpd\u001b[0m\u001b[0;34m.\u001b[0m\u001b[0mmerge\u001b[0m\u001b[0;34m(\u001b[0m\u001b[0mleft\u001b[0m\u001b[0;34m,\u001b[0m\u001b[0mright\u001b[0m\u001b[0;34m,\u001b[0m\u001b[0mon\u001b[0m\u001b[0;34m=\u001b[0m\u001b[0;34m'Date'\u001b[0m\u001b[0;34m,\u001b[0m \u001b[0mhow\u001b[0m\u001b[0;34m=\u001b[0m\u001b[0;34m'outer'\u001b[0m\u001b[0;34m)\u001b[0m\u001b[0;34m,\u001b[0m \u001b[0mdataset_list_values\u001b[0m\u001b[0;34m.\u001b[0m\u001b[0mvalues\u001b[0m\u001b[0;34m(\u001b[0m\u001b[0;34m)\u001b[0m\u001b[0;34m)\u001b[0m\u001b[0;34m\u001b[0m\u001b[0;34m\u001b[0m\u001b[0m\n\u001b[0m\u001b[1;32m      2\u001b[0m \u001b[0mmerged_values\u001b[0m\u001b[0;34m.\u001b[0m\u001b[0mcolumns\u001b[0m \u001b[0;34m=\u001b[0m \u001b[0;34m[\u001b[0m\u001b[0;34m'Date'\u001b[0m\u001b[0;34m]\u001b[0m \u001b[0;34m+\u001b[0m \u001b[0mlist\u001b[0m\u001b[0;34m(\u001b[0m\u001b[0mdataset_list_values\u001b[0m\u001b[0;34m.\u001b[0m\u001b[0mkeys\u001b[0m\u001b[0;34m(\u001b[0m\u001b[0;34m)\u001b[0m\u001b[0;34m)\u001b[0m\u001b[0;34m\u001b[0m\u001b[0;34m\u001b[0m\u001b[0m\n\u001b[1;32m      3\u001b[0m \u001b[0;31m# sns.pairplot(data = merged_values)\u001b[0m\u001b[0;34m\u001b[0m\u001b[0;34m\u001b[0m\u001b[0m\n",
            "\u001b[0;32m/usr/local/lib/python3.11/dist-packages/pandas/core/reshape/merge.py\u001b[0m in \u001b[0;36mmerge\u001b[0;34m(left, right, how, on, left_on, right_on, left_index, right_index, sort, suffixes, copy, indicator, validate)\u001b[0m\n\u001b[1;32m    182\u001b[0m             \u001b[0mvalidate\u001b[0m\u001b[0;34m=\u001b[0m\u001b[0mvalidate\u001b[0m\u001b[0;34m,\u001b[0m\u001b[0;34m\u001b[0m\u001b[0;34m\u001b[0m\u001b[0m\n\u001b[1;32m    183\u001b[0m         )\n\u001b[0;32m--> 184\u001b[0;31m         \u001b[0;32mreturn\u001b[0m \u001b[0mop\u001b[0m\u001b[0;34m.\u001b[0m\u001b[0mget_result\u001b[0m\u001b[0;34m(\u001b[0m\u001b[0mcopy\u001b[0m\u001b[0;34m=\u001b[0m\u001b[0mcopy\u001b[0m\u001b[0;34m)\u001b[0m\u001b[0;34m\u001b[0m\u001b[0;34m\u001b[0m\u001b[0m\n\u001b[0m\u001b[1;32m    185\u001b[0m \u001b[0;34m\u001b[0m\u001b[0m\n\u001b[1;32m    186\u001b[0m \u001b[0;34m\u001b[0m\u001b[0m\n",
            "\u001b[0;32m/usr/local/lib/python3.11/dist-packages/pandas/core/reshape/merge.py\u001b[0m in \u001b[0;36mget_result\u001b[0;34m(self, copy)\u001b[0m\n\u001b[1;32m    886\u001b[0m         \u001b[0mjoin_index\u001b[0m\u001b[0;34m,\u001b[0m \u001b[0mleft_indexer\u001b[0m\u001b[0;34m,\u001b[0m \u001b[0mright_indexer\u001b[0m \u001b[0;34m=\u001b[0m \u001b[0mself\u001b[0m\u001b[0;34m.\u001b[0m\u001b[0m_get_join_info\u001b[0m\u001b[0;34m(\u001b[0m\u001b[0;34m)\u001b[0m\u001b[0;34m\u001b[0m\u001b[0;34m\u001b[0m\u001b[0m\n\u001b[1;32m    887\u001b[0m \u001b[0;34m\u001b[0m\u001b[0m\n\u001b[0;32m--> 888\u001b[0;31m         result = self._reindex_and_concat(\n\u001b[0m\u001b[1;32m    889\u001b[0m             \u001b[0mjoin_index\u001b[0m\u001b[0;34m,\u001b[0m \u001b[0mleft_indexer\u001b[0m\u001b[0;34m,\u001b[0m \u001b[0mright_indexer\u001b[0m\u001b[0;34m,\u001b[0m \u001b[0mcopy\u001b[0m\u001b[0;34m=\u001b[0m\u001b[0mcopy\u001b[0m\u001b[0;34m\u001b[0m\u001b[0;34m\u001b[0m\u001b[0m\n\u001b[1;32m    890\u001b[0m         )\n",
            "\u001b[0;32m/usr/local/lib/python3.11/dist-packages/pandas/core/reshape/merge.py\u001b[0m in \u001b[0;36m_reindex_and_concat\u001b[0;34m(self, join_index, left_indexer, right_indexer, copy)\u001b[0m\n\u001b[1;32m    838\u001b[0m         \u001b[0mright\u001b[0m \u001b[0;34m=\u001b[0m \u001b[0mself\u001b[0m\u001b[0;34m.\u001b[0m\u001b[0mright\u001b[0m\u001b[0;34m[\u001b[0m\u001b[0;34m:\u001b[0m\u001b[0;34m]\u001b[0m\u001b[0;34m\u001b[0m\u001b[0;34m\u001b[0m\u001b[0m\n\u001b[1;32m    839\u001b[0m \u001b[0;34m\u001b[0m\u001b[0m\n\u001b[0;32m--> 840\u001b[0;31m         llabels, rlabels = _items_overlap_with_suffix(\n\u001b[0m\u001b[1;32m    841\u001b[0m             \u001b[0mself\u001b[0m\u001b[0;34m.\u001b[0m\u001b[0mleft\u001b[0m\u001b[0;34m.\u001b[0m\u001b[0m_info_axis\u001b[0m\u001b[0;34m,\u001b[0m \u001b[0mself\u001b[0m\u001b[0;34m.\u001b[0m\u001b[0mright\u001b[0m\u001b[0;34m.\u001b[0m\u001b[0m_info_axis\u001b[0m\u001b[0;34m,\u001b[0m \u001b[0mself\u001b[0m\u001b[0;34m.\u001b[0m\u001b[0msuffixes\u001b[0m\u001b[0;34m\u001b[0m\u001b[0;34m\u001b[0m\u001b[0m\n\u001b[1;32m    842\u001b[0m         )\n",
            "\u001b[0;32m/usr/local/lib/python3.11/dist-packages/pandas/core/reshape/merge.py\u001b[0m in \u001b[0;36m_items_overlap_with_suffix\u001b[0;34m(left, right, suffixes)\u001b[0m\n\u001b[1;32m   2755\u001b[0m         \u001b[0mdups\u001b[0m\u001b[0;34m.\u001b[0m\u001b[0mextend\u001b[0m\u001b[0;34m(\u001b[0m\u001b[0mrlabels\u001b[0m\u001b[0;34m[\u001b[0m\u001b[0;34m(\u001b[0m\u001b[0mrlabels\u001b[0m\u001b[0;34m.\u001b[0m\u001b[0mduplicated\u001b[0m\u001b[0;34m(\u001b[0m\u001b[0;34m)\u001b[0m\u001b[0;34m)\u001b[0m \u001b[0;34m&\u001b[0m \u001b[0;34m(\u001b[0m\u001b[0;34m~\u001b[0m\u001b[0mright\u001b[0m\u001b[0;34m.\u001b[0m\u001b[0mduplicated\u001b[0m\u001b[0;34m(\u001b[0m\u001b[0;34m)\u001b[0m\u001b[0;34m)\u001b[0m\u001b[0;34m]\u001b[0m\u001b[0;34m.\u001b[0m\u001b[0mtolist\u001b[0m\u001b[0;34m(\u001b[0m\u001b[0;34m)\u001b[0m\u001b[0;34m)\u001b[0m\u001b[0;34m\u001b[0m\u001b[0;34m\u001b[0m\u001b[0m\n\u001b[1;32m   2756\u001b[0m     \u001b[0;32mif\u001b[0m \u001b[0mdups\u001b[0m\u001b[0;34m:\u001b[0m\u001b[0;34m\u001b[0m\u001b[0;34m\u001b[0m\u001b[0m\n\u001b[0;32m-> 2757\u001b[0;31m         raise MergeError(\n\u001b[0m\u001b[1;32m   2758\u001b[0m             \u001b[0;34mf\"Passing 'suffixes' which cause duplicate columns {set(dups)} is \"\u001b[0m\u001b[0;34m\u001b[0m\u001b[0;34m\u001b[0m\u001b[0m\n\u001b[1;32m   2759\u001b[0m             \u001b[0;34mf\"not allowed.\"\u001b[0m\u001b[0;34m,\u001b[0m\u001b[0;34m\u001b[0m\u001b[0;34m\u001b[0m\u001b[0m\n",
            "\u001b[0;31mMergeError\u001b[0m: Passing 'suffixes' which cause duplicate columns {'Value_x'} is not allowed."
          ]
        }
      ]
    },
    {
      "cell_type": "code",
      "source": [
        "# Plot a correlation matrix heatmap\n",
        "f = plt.figure(figsize=(10, 10))\n",
        "sns.heatmap(merged_values.corr(), vmin = -1, vmax = 1, annot = True, fmt = \".2f\")"
      ],
      "metadata": {
        "id": "94NijQDfjg19"
      },
      "execution_count": null,
      "outputs": []
    },
    {
      "cell_type": "markdown",
      "source": [
        "# Graph Visualizations"
      ],
      "metadata": {
        "id": "aySBz0rpdFmz"
      }
    },
    {
      "cell_type": "code",
      "source": [
        "# Scale Data for Graphing\n",
        "clean_dfs = {}\n",
        "for label, df in dfs.items():\n",
        "  clean_df = df.copy()\n",
        "  clean_df.columns = ['Date', 'Value']\n",
        "  clean_dfs[label] = clean_df"
      ],
      "metadata": {
        "id": "zhjScH0Lqg8v"
      },
      "execution_count": null,
      "outputs": []
    },
    {
      "cell_type": "markdown",
      "source": [
        "## Target Comparison (Value)"
      ],
      "metadata": {
        "id": "u5LMvUo4dMsD"
      }
    },
    {
      "cell_type": "code",
      "source": [
        "for label, df in clean_dfs.items():\n",
        "  plot_comparison(target_df, df, 'FFER', label)"
      ],
      "metadata": {
        "id": "tPXOGqCFdKPP"
      },
      "execution_count": null,
      "outputs": []
    },
    {
      "cell_type": "markdown",
      "source": [
        "## Target Comparison (Monthly)"
      ],
      "metadata": {
        "id": "EFqoFPkfd55V"
      }
    },
    {
      "cell_type": "code",
      "source": [
        "for label, df in clean_dfs.items():\n",
        "  plot_comparison(target_df, df, 'FFER', label, Value='ChangePercentMonth')"
      ],
      "metadata": {
        "id": "tldgepRCd-F7"
      },
      "execution_count": null,
      "outputs": []
    },
    {
      "cell_type": "markdown",
      "source": [
        "## Target Comparison (Annually)"
      ],
      "metadata": {
        "id": "AO0OX5TVd-jE"
      }
    },
    {
      "cell_type": "code",
      "source": [
        "for label, df in clean_dfs.items():\n",
        "  plot_comparison(target_df, df, 'FFER', label, Value='ChangePercentYear')"
      ],
      "metadata": {
        "id": "nd3IHRn0eCST"
      },
      "execution_count": null,
      "outputs": []
    }
  ]
}