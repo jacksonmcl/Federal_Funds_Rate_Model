{
  "nbformat": 4,
  "nbformat_minor": 0,
  "metadata": {
    "colab": {
      "provenance": [],
      "collapsed_sections": [
        "uwtn1soIjPbL",
        "u5LMvUo4dMsD",
        "EFqoFPkfd55V",
        "AO0OX5TVd-jE"
      ],
      "authorship_tag": "ABX9TyP+cZ1UKAr6GdXSsEnGiieI",
      "include_colab_link": true
    },
    "kernelspec": {
      "name": "python3",
      "display_name": "Python 3"
    },
    "language_info": {
      "name": "python"
    }
  },
  "cells": [
    {
      "cell_type": "markdown",
      "metadata": {
        "id": "view-in-github",
        "colab_type": "text"
      },
      "source": [
        "<a href=\"https://colab.research.google.com/github/jacksonmcl/Federal_Funds_Rate_Model/blob/main/2.%20Data%20Visualization/data_visualization.ipynb\" target=\"_parent\"><img src=\"https://colab.research.google.com/assets/colab-badge.svg\" alt=\"Open In Colab\"/></a>"
      ]
    },
    {
      "cell_type": "code",
      "execution_count": null,
      "metadata": {
        "id": "C1eVbG8sXx57"
      },
      "outputs": [],
      "source": [
        "import numpy as np\n",
        "import pandas as pd\n",
        "import matplotlib.pyplot as plt\n",
        "import seaborn as sns\n",
        "\n",
        "import matplotlib.transforms as mtransforms\n",
        "from datetime import datetime\n",
        "from functools import reduce\n",
        "\n",
        "dfs = {}"
      ]
    },
    {
      "cell_type": "code",
      "source": [
        "dfs['Federal_Funds_Rate'] = pd.read_csv('clean_Federal_Funds_Rate.csv')\n",
        "dfs['Lagged_FFER'] = pd.read_csv('clean_Lagged_FFR.csv')\n",
        "\n",
        "# dfs['Reserve_Rate'] = pd.read_csv('clean_Reserve_Rate.csv')\n",
        "dfs['Discount_Rate'] = pd.read_csv('clean_Discount_Rate.csv')\n",
        "dfs['Prime_Rate'] = pd.read_csv('clean_Prime_Loan_Rate.csv')\n",
        "\n",
        "dfs['Consumer_Price_Index'] = pd.read_csv('clean_Consumer_Price_Index.csv')\n",
        "dfs['Producer_Price_Index'] = pd.read_csv('clean_Producer_Price_Index.csv')\n",
        "dfs['Personal_Consumption_Expenditure'] = pd.read_csv('clean_Personal_Consumption_Expenditures.csv')\n",
        "dfs['GDP_Recession_Index'] = pd.read_csv('clean_GDP_Recession_Index.csv')\n",
        "\n",
        "dfs['Unemployment_Rate'] = pd.read_csv('clean_Unemployment_Rate.csv')\n",
        "dfs['Mortgage_Rate'] = pd.read_csv('clean_Mortgage_Rate.csv')\n",
        "dfs['Auto_Loan_Rate'] = pd.read_csv('clean_Auto_Loan_Rate.csv')\n",
        "\n",
        "target_df = dfs.pop('Federal_Funds_Rate')"
      ],
      "metadata": {
        "id": "97n-AMMtX78-",
        "colab": {
          "base_uri": "https://localhost:8080/",
          "height": 382
        },
        "outputId": "75d77052-42d7-4fcb-e74f-a41ff64b16ac"
      },
      "execution_count": null,
      "outputs": [
        {
          "output_type": "error",
          "ename": "FileNotFoundError",
          "evalue": "[Errno 2] No such file or directory: 'clean_Federal_Funds_Rate.csv'",
          "traceback": [
            "\u001b[0;31m---------------------------------------------------------------------------\u001b[0m",
            "\u001b[0;31mFileNotFoundError\u001b[0m                         Traceback (most recent call last)",
            "\u001b[0;32m<ipython-input-3-f80bedac8061>\u001b[0m in \u001b[0;36m<cell line: 0>\u001b[0;34m()\u001b[0m\n\u001b[0;32m----> 1\u001b[0;31m \u001b[0mdfs\u001b[0m\u001b[0;34m[\u001b[0m\u001b[0;34m'Federal_Funds_Rate'\u001b[0m\u001b[0;34m]\u001b[0m \u001b[0;34m=\u001b[0m \u001b[0mpd\u001b[0m\u001b[0;34m.\u001b[0m\u001b[0mread_csv\u001b[0m\u001b[0;34m(\u001b[0m\u001b[0;34m'clean_Federal_Funds_Rate.csv'\u001b[0m\u001b[0;34m)\u001b[0m\u001b[0;34m\u001b[0m\u001b[0;34m\u001b[0m\u001b[0m\n\u001b[0m\u001b[1;32m      2\u001b[0m \u001b[0mdfs\u001b[0m\u001b[0;34m[\u001b[0m\u001b[0;34m'Lagged_FFER'\u001b[0m\u001b[0;34m]\u001b[0m \u001b[0;34m=\u001b[0m \u001b[0mpd\u001b[0m\u001b[0;34m.\u001b[0m\u001b[0mread_csv\u001b[0m\u001b[0;34m(\u001b[0m\u001b[0;34m'clean_Lagged_FFR.csv'\u001b[0m\u001b[0;34m)\u001b[0m\u001b[0;34m\u001b[0m\u001b[0;34m\u001b[0m\u001b[0m\n\u001b[1;32m      3\u001b[0m \u001b[0;34m\u001b[0m\u001b[0m\n\u001b[1;32m      4\u001b[0m \u001b[0;31m# dfs['Reserve_Rate'] = pd.read_csv('clean_Reserve_Rate.csv')\u001b[0m\u001b[0;34m\u001b[0m\u001b[0;34m\u001b[0m\u001b[0m\n\u001b[1;32m      5\u001b[0m \u001b[0mdfs\u001b[0m\u001b[0;34m[\u001b[0m\u001b[0;34m'Discount_Rate'\u001b[0m\u001b[0;34m]\u001b[0m \u001b[0;34m=\u001b[0m \u001b[0mpd\u001b[0m\u001b[0;34m.\u001b[0m\u001b[0mread_csv\u001b[0m\u001b[0;34m(\u001b[0m\u001b[0;34m'clean_Discount_Rate.csv'\u001b[0m\u001b[0;34m)\u001b[0m\u001b[0;34m\u001b[0m\u001b[0;34m\u001b[0m\u001b[0m\n",
            "\u001b[0;32m/usr/local/lib/python3.11/dist-packages/pandas/io/parsers/readers.py\u001b[0m in \u001b[0;36mread_csv\u001b[0;34m(filepath_or_buffer, sep, delimiter, header, names, index_col, usecols, dtype, engine, converters, true_values, false_values, skipinitialspace, skiprows, skipfooter, nrows, na_values, keep_default_na, na_filter, verbose, skip_blank_lines, parse_dates, infer_datetime_format, keep_date_col, date_parser, date_format, dayfirst, cache_dates, iterator, chunksize, compression, thousands, decimal, lineterminator, quotechar, quoting, doublequote, escapechar, comment, encoding, encoding_errors, dialect, on_bad_lines, delim_whitespace, low_memory, memory_map, float_precision, storage_options, dtype_backend)\u001b[0m\n\u001b[1;32m   1024\u001b[0m     \u001b[0mkwds\u001b[0m\u001b[0;34m.\u001b[0m\u001b[0mupdate\u001b[0m\u001b[0;34m(\u001b[0m\u001b[0mkwds_defaults\u001b[0m\u001b[0;34m)\u001b[0m\u001b[0;34m\u001b[0m\u001b[0;34m\u001b[0m\u001b[0m\n\u001b[1;32m   1025\u001b[0m \u001b[0;34m\u001b[0m\u001b[0m\n\u001b[0;32m-> 1026\u001b[0;31m     \u001b[0;32mreturn\u001b[0m \u001b[0m_read\u001b[0m\u001b[0;34m(\u001b[0m\u001b[0mfilepath_or_buffer\u001b[0m\u001b[0;34m,\u001b[0m \u001b[0mkwds\u001b[0m\u001b[0;34m)\u001b[0m\u001b[0;34m\u001b[0m\u001b[0;34m\u001b[0m\u001b[0m\n\u001b[0m\u001b[1;32m   1027\u001b[0m \u001b[0;34m\u001b[0m\u001b[0m\n\u001b[1;32m   1028\u001b[0m \u001b[0;34m\u001b[0m\u001b[0m\n",
            "\u001b[0;32m/usr/local/lib/python3.11/dist-packages/pandas/io/parsers/readers.py\u001b[0m in \u001b[0;36m_read\u001b[0;34m(filepath_or_buffer, kwds)\u001b[0m\n\u001b[1;32m    618\u001b[0m \u001b[0;34m\u001b[0m\u001b[0m\n\u001b[1;32m    619\u001b[0m     \u001b[0;31m# Create the parser.\u001b[0m\u001b[0;34m\u001b[0m\u001b[0;34m\u001b[0m\u001b[0m\n\u001b[0;32m--> 620\u001b[0;31m     \u001b[0mparser\u001b[0m \u001b[0;34m=\u001b[0m \u001b[0mTextFileReader\u001b[0m\u001b[0;34m(\u001b[0m\u001b[0mfilepath_or_buffer\u001b[0m\u001b[0;34m,\u001b[0m \u001b[0;34m**\u001b[0m\u001b[0mkwds\u001b[0m\u001b[0;34m)\u001b[0m\u001b[0;34m\u001b[0m\u001b[0;34m\u001b[0m\u001b[0m\n\u001b[0m\u001b[1;32m    621\u001b[0m \u001b[0;34m\u001b[0m\u001b[0m\n\u001b[1;32m    622\u001b[0m     \u001b[0;32mif\u001b[0m \u001b[0mchunksize\u001b[0m \u001b[0;32mor\u001b[0m \u001b[0miterator\u001b[0m\u001b[0;34m:\u001b[0m\u001b[0;34m\u001b[0m\u001b[0;34m\u001b[0m\u001b[0m\n",
            "\u001b[0;32m/usr/local/lib/python3.11/dist-packages/pandas/io/parsers/readers.py\u001b[0m in \u001b[0;36m__init__\u001b[0;34m(self, f, engine, **kwds)\u001b[0m\n\u001b[1;32m   1618\u001b[0m \u001b[0;34m\u001b[0m\u001b[0m\n\u001b[1;32m   1619\u001b[0m         \u001b[0mself\u001b[0m\u001b[0;34m.\u001b[0m\u001b[0mhandles\u001b[0m\u001b[0;34m:\u001b[0m \u001b[0mIOHandles\u001b[0m \u001b[0;34m|\u001b[0m \u001b[0;32mNone\u001b[0m \u001b[0;34m=\u001b[0m \u001b[0;32mNone\u001b[0m\u001b[0;34m\u001b[0m\u001b[0;34m\u001b[0m\u001b[0m\n\u001b[0;32m-> 1620\u001b[0;31m         \u001b[0mself\u001b[0m\u001b[0;34m.\u001b[0m\u001b[0m_engine\u001b[0m \u001b[0;34m=\u001b[0m \u001b[0mself\u001b[0m\u001b[0;34m.\u001b[0m\u001b[0m_make_engine\u001b[0m\u001b[0;34m(\u001b[0m\u001b[0mf\u001b[0m\u001b[0;34m,\u001b[0m \u001b[0mself\u001b[0m\u001b[0;34m.\u001b[0m\u001b[0mengine\u001b[0m\u001b[0;34m)\u001b[0m\u001b[0;34m\u001b[0m\u001b[0;34m\u001b[0m\u001b[0m\n\u001b[0m\u001b[1;32m   1621\u001b[0m \u001b[0;34m\u001b[0m\u001b[0m\n\u001b[1;32m   1622\u001b[0m     \u001b[0;32mdef\u001b[0m \u001b[0mclose\u001b[0m\u001b[0;34m(\u001b[0m\u001b[0mself\u001b[0m\u001b[0;34m)\u001b[0m \u001b[0;34m->\u001b[0m \u001b[0;32mNone\u001b[0m\u001b[0;34m:\u001b[0m\u001b[0;34m\u001b[0m\u001b[0;34m\u001b[0m\u001b[0m\n",
            "\u001b[0;32m/usr/local/lib/python3.11/dist-packages/pandas/io/parsers/readers.py\u001b[0m in \u001b[0;36m_make_engine\u001b[0;34m(self, f, engine)\u001b[0m\n\u001b[1;32m   1878\u001b[0m                 \u001b[0;32mif\u001b[0m \u001b[0;34m\"b\"\u001b[0m \u001b[0;32mnot\u001b[0m \u001b[0;32min\u001b[0m \u001b[0mmode\u001b[0m\u001b[0;34m:\u001b[0m\u001b[0;34m\u001b[0m\u001b[0;34m\u001b[0m\u001b[0m\n\u001b[1;32m   1879\u001b[0m                     \u001b[0mmode\u001b[0m \u001b[0;34m+=\u001b[0m \u001b[0;34m\"b\"\u001b[0m\u001b[0;34m\u001b[0m\u001b[0;34m\u001b[0m\u001b[0m\n\u001b[0;32m-> 1880\u001b[0;31m             self.handles = get_handle(\n\u001b[0m\u001b[1;32m   1881\u001b[0m                 \u001b[0mf\u001b[0m\u001b[0;34m,\u001b[0m\u001b[0;34m\u001b[0m\u001b[0;34m\u001b[0m\u001b[0m\n\u001b[1;32m   1882\u001b[0m                 \u001b[0mmode\u001b[0m\u001b[0;34m,\u001b[0m\u001b[0;34m\u001b[0m\u001b[0;34m\u001b[0m\u001b[0m\n",
            "\u001b[0;32m/usr/local/lib/python3.11/dist-packages/pandas/io/common.py\u001b[0m in \u001b[0;36mget_handle\u001b[0;34m(path_or_buf, mode, encoding, compression, memory_map, is_text, errors, storage_options)\u001b[0m\n\u001b[1;32m    871\u001b[0m         \u001b[0;32mif\u001b[0m \u001b[0mioargs\u001b[0m\u001b[0;34m.\u001b[0m\u001b[0mencoding\u001b[0m \u001b[0;32mand\u001b[0m \u001b[0;34m\"b\"\u001b[0m \u001b[0;32mnot\u001b[0m \u001b[0;32min\u001b[0m \u001b[0mioargs\u001b[0m\u001b[0;34m.\u001b[0m\u001b[0mmode\u001b[0m\u001b[0;34m:\u001b[0m\u001b[0;34m\u001b[0m\u001b[0;34m\u001b[0m\u001b[0m\n\u001b[1;32m    872\u001b[0m             \u001b[0;31m# Encoding\u001b[0m\u001b[0;34m\u001b[0m\u001b[0;34m\u001b[0m\u001b[0m\n\u001b[0;32m--> 873\u001b[0;31m             handle = open(\n\u001b[0m\u001b[1;32m    874\u001b[0m                 \u001b[0mhandle\u001b[0m\u001b[0;34m,\u001b[0m\u001b[0;34m\u001b[0m\u001b[0;34m\u001b[0m\u001b[0m\n\u001b[1;32m    875\u001b[0m                 \u001b[0mioargs\u001b[0m\u001b[0;34m.\u001b[0m\u001b[0mmode\u001b[0m\u001b[0;34m,\u001b[0m\u001b[0;34m\u001b[0m\u001b[0;34m\u001b[0m\u001b[0m\n",
            "\u001b[0;31mFileNotFoundError\u001b[0m: [Errno 2] No such file or directory: 'clean_Federal_Funds_Rate.csv'"
          ]
        }
      ]
    },
    {
      "cell_type": "markdown",
      "metadata": {
        "id": "uwtn1soIjPbL"
      },
      "source": [
        "# Helper Functions"
      ]
    },
    {
      "cell_type": "code",
      "execution_count": null,
      "metadata": {
        "id": "vrVOX2rJjV7c"
      },
      "outputs": [],
      "source": [
        "# This function cleans a dataframe to change datetime to %Y-%m format\n",
        "def df_dates_monthly(df, Date = 'Date'):\n",
        "    clean_df = df.copy()\n",
        "    clean_df[Date] = pd.to_datetime(clean_df[Date])\n",
        "    clean_df[Date] = clean_df[Date].dt.strftime('%Y-%m')\n",
        "    return clean_df"
      ]
    },
    {
      "cell_type": "code",
      "execution_count": null,
      "metadata": {
        "id": "lNHaLsk_jStd"
      },
      "outputs": [],
      "source": [
        "def df_change_percent(df, Value = 'Value'):\n",
        "    clean_df = df.copy()\n",
        "    clean_df['ChangePercentMonth'] = round(clean_df[Value].pct_change(),6)\n",
        "    clean_df['ChangePercentYear'] = round(clean_df[Value].pct_change(12),6)\n",
        "    return clean_df"
      ]
    },
    {
      "cell_type": "code",
      "execution_count": null,
      "metadata": {
        "id": "MukN0PUl8DBC"
      },
      "outputs": [],
      "source": [
        "def plot_comparison(base_df, comparison_df, base_label, comparison_label, Value='Value'):\n",
        "    base_df = base_df.copy()\n",
        "    comparison_df = comparison_df.copy()\n",
        "\n",
        "    base_df.dropna(inplace=True)\n",
        "    comparison_df.dropna(inplace=True)\n",
        "\n",
        "    # Convert to Datetime\n",
        "    base_df['Date'] = pd.to_datetime(base_df['Date'])\n",
        "    comparison_df['Date'] = pd.to_datetime(comparison_df['Date'])\n",
        "\n",
        "    # Plot comparison metric\n",
        "    plt.figure(figsize=(12, 6))\n",
        "    plt.stackplot(base_df['Date'], base_df[Value], color='lightgray')\n",
        "    sns.lineplot(x='Date', y=Value, data=comparison_df, label=comparison_label, color='steelblue')\n",
        "\n",
        "    # Customize plot\n",
        "    plt.title(f'{base_label} and {comparison_label}')\n",
        "    plt.xlabel('Date')\n",
        "    plt.ylabel(f'{comparison_label}')\n",
        "    plt.grid(True)\n",
        "    plt.legend()\n",
        "    plt.show()\n"
      ]
    },
    {
      "cell_type": "markdown",
      "source": [
        "# Correlations"
      ],
      "metadata": {
        "id": "ufewvGZ2hm-y"
      }
    },
    {
      "cell_type": "code",
      "source": [
        "for label, df in dfs.items():\n",
        "  df.drop(columns=['ChangePercentMonth', 'ChangePercentYear'], axis=1, inplace=True)\n",
        "  df.dropna(inplace=True)\n",
        "  df.drop_duplicates(inplace=True)\n",
        "\n",
        "merged_dfs = {k:pd.merge(v, target_df, how='left', on='Date') for (k,v) in dfs.items()}"
      ],
      "metadata": {
        "id": "T6BX7ZzfhyY0"
      },
      "execution_count": null,
      "outputs": []
    },
    {
      "cell_type": "code",
      "source": [
        "# Calculate correlations between different variables to Target\n",
        "corr_list = {\n",
        "            k:v[['Value_x', 'Value_y']].corr().iat[0,1] # [0,1] is the location on the correlation matrix that has the correlation of Value_x to Value_y\n",
        "            for (k,v)\n",
        "            in merged_dfs.items()\n",
        "        }\n",
        "\n",
        "# Print correlations of each dataset to Target\n",
        "print(f'Correlations with The Federal Funds Effective Rate:\\n')\n",
        "for k,v in corr_list.items():\n",
        "    print(f'\\t{k}: {round(v,2)}')"
      ],
      "metadata": {
        "id": "-lPyQuh_ii53"
      },
      "execution_count": null,
      "outputs": []
    },
    {
      "cell_type": "code",
      "source": [
        "# Merge the values and plot a pairplot\n",
        "dataset_list_values = {k:v[['Date', 'Value']] for (k,v) in dfs.items()}\n",
        "dataset_list_values['Federal_Funds_Rate'] = target_df[['Date', 'Value']]\n",
        "dataset_list_values.keys()"
      ],
      "metadata": {
        "id": "3mG1S8cjZ6hT"
      },
      "execution_count": null,
      "outputs": []
    },
    {
      "cell_type": "code",
      "source": [
        "merged_values = reduce(lambda left,right: pd.merge(left,right,on='Date', how='outer'), dataset_list_values.values())\n",
        "merged_values.columns = ['Date'] + list(dataset_list_values.keys())\n",
        "# sns.pairplot(data = merged_values)"
      ],
      "metadata": {
        "id": "KCfBiux5c3bS"
      },
      "execution_count": null,
      "outputs": []
    },
    {
      "cell_type": "code",
      "source": [
        "# Plot a correlation matrix heatmap\n",
        "f = plt.figure(figsize=(10, 10))\n",
        "sns.heatmap(merged_values.corr(), vmin = -1, vmax = 1, annot = True, fmt = \".2f\")"
      ],
      "metadata": {
        "id": "94NijQDfjg19"
      },
      "execution_count": null,
      "outputs": []
    },
    {
      "cell_type": "markdown",
      "source": [
        "# Graph Visualizations"
      ],
      "metadata": {
        "id": "aySBz0rpdFmz"
      }
    },
    {
      "cell_type": "markdown",
      "source": [
        "## Target Comparison (Value)"
      ],
      "metadata": {
        "id": "u5LMvUo4dMsD"
      }
    },
    {
      "cell_type": "code",
      "source": [
        "for label, df in dfs.items():\n",
        "  plot_comparison(target_df, df, 'FFER', label)"
      ],
      "metadata": {
        "id": "tPXOGqCFdKPP"
      },
      "execution_count": null,
      "outputs": []
    },
    {
      "cell_type": "markdown",
      "source": [
        "## Target Comparison (Monthly)"
      ],
      "metadata": {
        "id": "EFqoFPkfd55V"
      }
    },
    {
      "cell_type": "code",
      "source": [
        "# for label, df in dfs.items():\n",
        "#   plot_comparison(target_df, df, 'FFER', label, Value='ChangePercentMonth')"
      ],
      "metadata": {
        "id": "tldgepRCd-F7"
      },
      "execution_count": null,
      "outputs": []
    },
    {
      "cell_type": "markdown",
      "source": [
        "## Target Comparison (Annually)"
      ],
      "metadata": {
        "id": "AO0OX5TVd-jE"
      }
    },
    {
      "cell_type": "code",
      "source": [
        "# for label, df in dfs.items():\n",
        "#   plot_comparison(target_df, df, 'FFER', label, Value='ChangePercentYear')"
      ],
      "metadata": {
        "id": "nd3IHRn0eCST"
      },
      "execution_count": null,
      "outputs": []
    }
  ]
}